{
  "cells": [
    {
      "cell_type": "markdown",
      "source": [
        "## Imports"
      ],
      "metadata": {
        "nteract": {
          "transient": {
            "deleting": false
          }
        }
      }
    },
    {
      "cell_type": "code",
      "source": [
        "import hashlib\n",
        "import json\n",
        "import uuid\n",
        "import pandas as pd\n",
        "\n",
        "from pathlib import Path"
      ],
      "outputs": [],
      "execution_count": 1,
      "metadata": {
        "jupyter": {
          "source_hidden": false,
          "outputs_hidden": false
        },
        "nteract": {
          "transient": {
            "deleting": false
          }
        },
        "gather": {
          "logged": 1716577672989
        }
      }
    },
    {
      "cell_type": "markdown",
      "source": [
        "## Configuration"
      ],
      "metadata": {
        "nteract": {
          "transient": {
            "deleting": false
          }
        }
      }
    },
    {
      "cell_type": "code",
      "source": [
        "input_path = Path('./input')\n",
        "affiliate_input_path = input_path / 'Affiliate Values.xlsx'\n",
        "lob_input_path = input_path / 'LOB to ROR replace.xlsx'\n",
        "custom_field_input_path = input_path / 'Custom Field.xlsx'\n",
        "ror_input_path = input_path / 'NED RoRs.xlsx'\n",
        "\n",
        "output_path = Path('./output')"
      ],
      "outputs": [],
      "execution_count": 2,
      "metadata": {
        "jupyter": {
          "source_hidden": false,
          "outputs_hidden": false
        },
        "nteract": {
          "transient": {
            "deleting": false
          }
        },
        "gather": {
          "logged": 1716577673148
        }
      }
    },
    {
      "cell_type": "markdown",
      "source": [
        "## Read and Prepare Affiliate Data"
      ],
      "metadata": {
        "nteract": {
          "transient": {
            "deleting": false
          }
        }
      }
    },
    {
      "cell_type": "code",
      "source": [
        "affiliate_data = pd.read_excel(affiliate_input_path, dtype=str)\n",
        "affiliate_data = affiliate_data.dropna(subset=['ROR'])\n",
        "affiliate_data = affiliate_data.drop_duplicates(subset=['ROR'])\n",
        "affiliate_data = affiliate_data.sort_values(by='ROR', key=lambda x: x.str.len(), ascending=False)\n",
        "affiliate_data['HASH'] = affiliate_data['ROR'].apply(lambda x: '#'.join(hashlib.sha1(str(x).encode('utf-8')).hexdigest()))\n",
        "#print(affiliate_data)"
      ],
      "outputs": [],
      "execution_count": 3,
      "metadata": {
        "jupyter": {
          "source_hidden": false,
          "outputs_hidden": false
        },
        "nteract": {
          "transient": {
            "deleting": false
          }
        },
        "gather": {
          "logged": 1716577673344
        }
      }
    },
    {
      "cell_type": "markdown",
      "source": [
        "## Read and Prepare LOB Data"
      ],
      "metadata": {
        "nteract": {
          "transient": {
            "deleting": false
          }
        }
      }
    },
    {
      "cell_type": "code",
      "source": [
        "lob_data = pd.read_excel(lob_input_path, dtype=str)\n",
        "lob_data = lob_data.dropna(subset=['ROR'])\n",
        "lob_data = lob_data.drop_duplicates(subset=['ROR'])\n",
        "lob_data = lob_data.sort_values(by='ROR', key=lambda x: x.str.len(), ascending=False)\n",
        "lob_data['HASH'] = lob_data['ROR'].apply(lambda x: '#'.join(hashlib.sha1(str(x).encode('utf-8')).hexdigest()))\n",
        "#print(lob_data)"
      ],
      "outputs": [],
      "execution_count": 4,
      "metadata": {
        "jupyter": {
          "source_hidden": false,
          "outputs_hidden": false
        },
        "nteract": {
          "transient": {
            "deleting": false
          }
        },
        "gather": {
          "logged": 1716577673480
        }
      }
    },
    {
      "cell_type": "markdown",
      "source": [
        "## "
      ],
      "metadata": {
        "nteract": {
          "transient": {
            "deleting": false
          }
        }
      }
    },
    {
      "cell_type": "markdown",
      "source": [
        "## Read and Prepare Custom Field Data"
      ],
      "metadata": {
        "nteract": {
          "transient": {
            "deleting": false
          }
        }
      }
    },
    {
      "cell_type": "code",
      "source": [
        "custom_field_data = pd.read_excel(custom_field_input_path, dtype=str)\n",
        "custom_field_data = custom_field_data.dropna(subset=['ROR'])\n",
        "custom_field_data = custom_field_data.drop_duplicates(subset=['ROR'])\n",
        "custom_field_data = custom_field_data.sort_values(by='ROR', key=lambda x: x.str.len(), ascending=False)\n",
        "custom_field_data['HASH'] = custom_field_data['ROR'].apply(lambda x: '#'.join(hashlib.sha1(str(x).encode('utf-8')).hexdigest()))\n",
        "#print(custom_field_data)"
      ],
      "outputs": [],
      "execution_count": 5,
      "metadata": {
        "jupyter": {
          "source_hidden": false,
          "outputs_hidden": false
        },
        "nteract": {
          "transient": {
            "deleting": false
          }
        },
        "gather": {
          "logged": 1716577673643
        }
      }
    },
    {
      "cell_type": "markdown",
      "source": [
        "## Read ROR Data"
      ],
      "metadata": {
        "nteract": {
          "transient": {
            "deleting": false
          }
        }
      }
    },
    {
      "cell_type": "code",
      "source": [
        "ror_data = pd.read_excel(ror_input_path, dtype=str)\n",
        "structured_ror_data = []\n",
        "for index, row in ror_data.iterrows():\n",
        "    structured_ror_data.append({\n",
        "        'OFR_NUM': row['OFR_NUM'],\n",
        "        'MKT_ID': row['MKT_ID'],\n",
        "        'RULE_NUM': row['RULE_NUM'],\n",
        "        'RULE': row['RULE'],\n",
        "        'RULE_TYPE': row['RULE_TYP'],\n",
        "        'STRT_DT': row['STRT_DT'],\n",
        "        'END_DT': row['END_DT'],\n",
        "        'ST': row['ST'],\n",
        "        'EXPRESN_NUM': row['EXPRSN_NUM'],\n",
        "        'EXPRSN': row['EXPRSN'],\n",
        "        'TYP': row['TYP'],\n",
        "        'CUST_STAT': row['CUST_STAT'],\n",
        "        'PRSNT': row['PRSNT'],\n",
        "        'RULE_OF_RULE': row['RULE_OF_RULE'],\n",
        "        'USR_MNGD': row['USR_MNGD'],\n",
        "        'AFFILIATES': [],\n",
        "        'LOBS': [],\n",
        "        'CUSTOM_FIELDS': [],\n",
        "        'EXPANDED_RULE_OF_RULE': row['RULE_OF_RULE']\n",
        "    })\n",
        "ror_data = structured_ror_data"
      ],
      "outputs": [],
      "execution_count": 6,
      "metadata": {
        "jupyter": {
          "source_hidden": false,
          "outputs_hidden": false
        },
        "nteract": {
          "transient": {
            "deleting": false
          }
        },
        "gather": {
          "logged": 1716577673774
        }
      }
    },
    {
      "cell_type": "markdown",
      "source": [
        "## Process ROR Data"
      ],
      "metadata": {
        "nteract": {
          "transient": {
            "deleting": false
          }
        }
      }
    },
    {
      "cell_type": "code",
      "source": [
        "# Process Affiliates\n",
        "for ror in ror_data:\n",
        "    for index, row in affiliate_data.iterrows():\n",
        "        if row['ROR'] in ror['EXPANDED_RULE_OF_RULE']:\n",
        "            ror['AFFILIATES'].append(row['Affiliate'])\n",
        "            ror['EXPANDED_RULE_OF_RULE'] = ror['EXPANDED_RULE_OF_RULE'].replace(row['ROR'], row['HASH'])\n",
        "\n",
        "# Process LOBs\n",
        "for ror in ror_data:\n",
        "    for index, row in lob_data.iterrows():\n",
        "        if row['ROR'] in ror['EXPANDED_RULE_OF_RULE']:\n",
        "            ror['LOBS'].append(row['LOB'])\n",
        "            ror['EXPANDED_RULE_OF_RULE'] = ror['EXPANDED_RULE_OF_RULE'].replace(row['ROR'], row['HASH'])\n",
        "\n",
        "# Process Custom Fields\n",
        "for ror in ror_data:\n",
        "    for index, row in custom_field_data.iterrows():\n",
        "        if row['ROR'] in ror['EXPANDED_RULE_OF_RULE']:\n",
        "            ror['CUSTOM_FIELDS'].append(row['Custom Field'])\n",
        "            ror['EXPANDED_RULE_OF_RULE'] = ror['EXPANDED_RULE_OF_RULE'].replace(row['ROR'], row['HASH'])\n",
        "\n",
        "# Replace Affiliate Hashes with Values\n",
        "for ror in ror_data:\n",
        "    for index, row in affiliate_data.iterrows():\n",
        "        ror['EXPANDED_RULE_OF_RULE'] = ror['EXPANDED_RULE_OF_RULE'].replace(row['HASH'], row['Affiliate'])       \n",
        "\n",
        "# Replace LOB Hashes with Values\n",
        "for ror in ror_data:\n",
        "    for index, row in lob_data.iterrows():\n",
        "        ror['EXPANDED_RULE_OF_RULE'] = ror['EXPANDED_RULE_OF_RULE'].replace(row['HASH'], row['LOB'])\n",
        "\n",
        "# Replace Custom Field Hashes with Values\n",
        "for ror in ror_data:\n",
        "    for index, row in custom_field_data.iterrows():\n",
        "        ror['EXPANDED_RULE_OF_RULE'] = ror['EXPANDED_RULE_OF_RULE'].replace(row['HASH'], row['Custom Field'])\n"
      ],
      "outputs": [],
      "execution_count": 7,
      "metadata": {
        "jupyter": {
          "source_hidden": false,
          "outputs_hidden": false
        },
        "nteract": {
          "transient": {
            "deleting": false
          }
        },
        "gather": {
          "logged": 1716577585844
        }
      }
    },
    {
      "cell_type": "markdown",
      "source": [
        "## Write Output"
      ],
      "metadata": {
        "nteract": {
          "transient": {
            "deleting": false
          }
        }
      }
    },
    {
      "cell_type": "code",
      "source": [
        "for ror in ror_data:\n",
        "    ror_string = json.dumps(ror, indent=4)\n",
        "\n",
        "    uuid_str = str(uuid.uuid4())\n",
        "    ror_output_path = output_path / (uuid_str + '.json')\n",
        "\n",
        "    with open(ror_output_path, \"w\") as ror_file:\n",
        "        ror_file.write(ror_string)"
      ],
      "outputs": [],
      "execution_count": null,
      "metadata": {
        "jupyter": {
          "source_hidden": false,
          "outputs_hidden": false
        },
        "nteract": {
          "transient": {
            "deleting": false
          }
        },
        "gather": {
          "logged": 1716577630772
        }
      }
    },
    {
      "cell_type": "markdown",
      "source": [],
      "metadata": {
        "nteract": {
          "transient": {
            "deleting": false
          }
        }
      }
    }
  ],
  "metadata": {
    "kernel_info": {
      "name": "python310-sdkv2"
    },
    "kernelspec": {
      "name": "python310-sdkv2",
      "language": "python",
      "display_name": "Python 3.10 - SDK v2"
    },
    "language_info": {
      "name": "python",
      "version": "3.10.11",
      "mimetype": "text/x-python",
      "codemirror_mode": {
        "name": "ipython",
        "version": 3
      },
      "pygments_lexer": "ipython3",
      "nbconvert_exporter": "python",
      "file_extension": ".py"
    },
    "microsoft": {
      "host": {
        "AzureML": {
          "notebookHasBeenCompleted": true
        }
      },
      "ms_spell_check": {
        "ms_spell_check_language": "en"
      }
    },
    "nteract": {
      "version": "nteract-front-end@1.0.0"
    }
  },
  "nbformat": 4,
  "nbformat_minor": 2
}